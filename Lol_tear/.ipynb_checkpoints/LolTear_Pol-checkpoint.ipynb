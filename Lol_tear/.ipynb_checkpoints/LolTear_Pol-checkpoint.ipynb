{
 "cells": [
  {
   "cell_type": "markdown",
   "id": "8011c031-21cf-4d71-9c73-ff152902e714",
   "metadata": {},
   "source": [
    "### 롤 티어 분석"
   ]
  },
  {
   "cell_type": "code",
   "execution_count": 2,
   "id": "112d644f-832e-4e2d-ae3b-1b69ec879e2b",
   "metadata": {},
   "outputs": [],
   "source": [
    "import numpy as np\n",
    "import matplotlib.pyplot as plt\n",
    "import pandas as pd"
   ]
  },
  {
   "cell_type": "code",
   "execution_count": 10,
   "id": "bf7cd73c-ae1b-4961-b6e6-1985cc0ac4a3",
   "metadata": {},
   "outputs": [],
   "source": [
    "dataset = pd.read_csv('LolTearData.csv')\n",
    "X = dataset.iloc[:, :1].values\n",
    "# 판수\n",
    "t = dataset.iloc[:, -1].values\n",
    "# 승률"
   ]
  },
  {
   "cell_type": "code",
   "execution_count": null,
   "id": "fda138db-dfd4-40e1-a9f4-a643f0f30ad9",
   "metadata": {},
   "outputs": [],
   "source": [
    "from sklearn.linear_model import LinearRegression\n"
   ]
  },
  {
   "cell_type": "code",
   "execution_count": null,
   "id": "91468be7-ea07-4c15-8a19-07efb943ae15",
   "metadata": {},
   "outputs": [],
   "source": []
  },
  {
   "cell_type": "code",
   "execution_count": null,
   "id": "74917cf6-6e2c-49d5-9b70-176ebb42dd80",
   "metadata": {},
   "outputs": [],
   "source": []
  },
  {
   "cell_type": "code",
   "execution_count": null,
   "id": "c49093d7-dcaa-4d58-996b-c9633ea4b236",
   "metadata": {},
   "outputs": [],
   "source": []
  },
  {
   "cell_type": "code",
   "execution_count": null,
   "id": "0cb6993c-7ee6-41f5-a80d-b9cc55efa1ac",
   "metadata": {},
   "outputs": [],
   "source": []
  },
  {
   "cell_type": "code",
   "execution_count": null,
   "id": "58ccb76b-1d70-4695-8f52-ab9b5733a586",
   "metadata": {},
   "outputs": [],
   "source": []
  },
  {
   "cell_type": "code",
   "execution_count": null,
   "id": "5eeeeb2d-626b-487c-84de-fcb5cfe565ba",
   "metadata": {},
   "outputs": [],
   "source": []
  },
  {
   "cell_type": "code",
   "execution_count": null,
   "id": "0d7ade50-e341-4ca1-b0c4-3eaff9bac850",
   "metadata": {},
   "outputs": [],
   "source": []
  },
  {
   "cell_type": "code",
   "execution_count": null,
   "id": "5b20f05a-729b-4973-a75b-af3f7cf31f1b",
   "metadata": {},
   "outputs": [],
   "source": []
  },
  {
   "cell_type": "code",
   "execution_count": null,
   "id": "2b3fe91e-8a18-4c7c-a290-b7666faa3ec9",
   "metadata": {},
   "outputs": [],
   "source": []
  },
  {
   "cell_type": "code",
   "execution_count": null,
   "id": "69f44f8c-1770-4899-87c8-0ea567e12c68",
   "metadata": {},
   "outputs": [],
   "source": []
  },
  {
   "cell_type": "code",
   "execution_count": null,
   "id": "d6c65e95-bedd-428c-9b60-cd607a6f3581",
   "metadata": {},
   "outputs": [],
   "source": []
  },
  {
   "cell_type": "code",
   "execution_count": null,
   "id": "8a12e52d-cb57-4311-9aea-26836ae8e28e",
   "metadata": {},
   "outputs": [],
   "source": []
  },
  {
   "cell_type": "code",
   "execution_count": null,
   "id": "6034505d-3936-4120-a62c-702cbda7e85d",
   "metadata": {},
   "outputs": [],
   "source": []
  },
  {
   "cell_type": "code",
   "execution_count": null,
   "id": "62d4bc6b-79cd-429f-bed9-d26fbca76cbd",
   "metadata": {},
   "outputs": [],
   "source": []
  },
  {
   "cell_type": "code",
   "execution_count": null,
   "id": "a6bb452f-0320-4980-b111-a75ee32dd95a",
   "metadata": {},
   "outputs": [],
   "source": []
  },
  {
   "cell_type": "code",
   "execution_count": null,
   "id": "ed4d9871-9037-49ae-9263-6af05e95a5f3",
   "metadata": {},
   "outputs": [],
   "source": []
  },
  {
   "cell_type": "code",
   "execution_count": null,
   "id": "23cb31ee-1905-4a4a-83a9-359f922c3001",
   "metadata": {},
   "outputs": [],
   "source": []
  },
  {
   "cell_type": "code",
   "execution_count": null,
   "id": "267d178e-5ade-4d85-a7cf-7ce0db9075b9",
   "metadata": {},
   "outputs": [],
   "source": []
  },
  {
   "cell_type": "code",
   "execution_count": null,
   "id": "8cc89b99-8621-48aa-9b7f-7af96a221476",
   "metadata": {},
   "outputs": [],
   "source": []
  },
  {
   "cell_type": "code",
   "execution_count": null,
   "id": "1b9a91fa-7b0b-4cfc-98e6-907b72136f16",
   "metadata": {},
   "outputs": [],
   "source": []
  }
 ],
 "metadata": {
  "kernelspec": {
   "display_name": "Python 3 (ipykernel)",
   "language": "python",
   "name": "python3"
  },
  "language_info": {
   "codemirror_mode": {
    "name": "ipython",
    "version": 3
   },
   "file_extension": ".py",
   "mimetype": "text/x-python",
   "name": "python",
   "nbconvert_exporter": "python",
   "pygments_lexer": "ipython3",
   "version": "3.12.4"
  }
 },
 "nbformat": 4,
 "nbformat_minor": 5
}
